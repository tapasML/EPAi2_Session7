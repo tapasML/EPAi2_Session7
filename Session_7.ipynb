{
  "nbformat": 4,
  "nbformat_minor": 0,
  "metadata": {
    "colab": {
      "name": "Session_7.ipynb",
      "provenance": [],
      "collapsed_sections": [],
      "authorship_tag": "ABX9TyOvEveP2SxLvMW6C+XA1gb/",
      "include_colab_link": true
    },
    "kernelspec": {
      "name": "python3",
      "display_name": "Python 3"
    },
    "accelerator": "GPU"
  },
  "cells": [
    {
      "cell_type": "markdown",
      "metadata": {
        "id": "view-in-github",
        "colab_type": "text"
      },
      "source": [
        "<a href=\"https://colab.research.google.com/github/tapasML/EPAi2_Session7/blob/main/Session_7.ipynb\" target=\"_parent\"><img src=\"https://colab.research.google.com/assets/colab-badge.svg\" alt=\"Open In Colab\"/></a>"
      ]
    },
    {
      "cell_type": "markdown",
      "metadata": {
        "id": "vyCIBZNpsCqt"
      },
      "source": [
        "# **Assignment 1**\r\n",
        "\r\n",
        "Intall Faker and import packages"
      ]
    },
    {
      "cell_type": "code",
      "metadata": {
        "id": "l1fDy7t2gQgn"
      },
      "source": [
        "try:\r\n",
        "  import faker\r\n",
        "except:\r\n",
        "  !pip install Faker\r\n",
        "  import faker\r\n",
        "  \r\n",
        "from faker import Faker\r\n",
        "from  collections import namedtuple\r\n",
        "from decimal import Decimal\r\n",
        "import datetime\r\n",
        "from datetime import date\r\n",
        "import time"
      ],
      "execution_count": 1,
      "outputs": []
    },
    {
      "cell_type": "markdown",
      "metadata": {
        "id": "0AmaKUg9sIkp"
      },
      "source": [
        "utility function to calculate age from date"
      ]
    },
    {
      "cell_type": "code",
      "metadata": {
        "id": "t6MDRf9Shmp3"
      },
      "source": [
        "def calculate_age(dob: date):\r\n",
        "\r\n",
        "  ''' calculate age in years from dob'''\r\n",
        "\r\n",
        "  today = date.today()\r\n",
        "  diff = today - dob\r\n",
        "  return diff.days/(365)"
      ],
      "execution_count": 2,
      "outputs": []
    },
    {
      "cell_type": "markdown",
      "metadata": {
        "id": "cisV0FkfsQ8w"
      },
      "source": [
        "# Using namedtuple"
      ]
    },
    {
      "cell_type": "code",
      "metadata": {
        "id": "LorMUQ0Ftv_N"
      },
      "source": [
        "def calculate_with_namedtuple()-> tuple:\r\n",
        "\r\n",
        "  ''' Using namedtuple:  Use Faker library to get 10000 random profiles. \r\n",
        "  Using namedtuple, calculate the largest blood type, mean-current_location, \r\n",
        "  oldest_person_age and average age'''\r\n",
        "\r\n",
        "  _start = time.perf_counter()\r\n",
        "  faker = Faker() \r\n",
        "  # generate a profile\r\n",
        "  profile_dict=faker.profile()  \r\n",
        "\r\n",
        "  # get the attribute names\r\n",
        "  keys=tuple(profile_dict.keys())   \r\n",
        "  person_list = []\r\n",
        "  person = namedtuple('Profile', keys)\r\n",
        "  \r\n",
        "  for i in range(10000):      \r\n",
        "    # p = person(*faker.profile())    \r\n",
        "    p = person(*faker.profile().values())  \r\n",
        "    person_list.append(p)\r\n",
        "\r\n",
        "  # largest blood type\r\n",
        "  _max_blood_group = max([item.blood_group for item in person_list])\r\n",
        "\r\n",
        "  # mean-current_location\r\n",
        "  _len = len(profile_dict)\r\n",
        "  _mean_x_coord = sum([item.current_location[0] for item in person_list]) / _len\r\n",
        "  _mean_y_coord = sum([item.current_location[1] for item in person_list]) / _len\r\n",
        "  _mean_location = _mean_x_coord, _mean_y_coord\r\n",
        "\r\n",
        "  # oldest_person_age\r\n",
        "  _max_age = calculate_age(min([item.birthdate for item in person_list]))\r\n",
        "\r\n",
        "  # average age\r\n",
        "  _average_age = sum([calculate_age(item.birthdate) for item in person_list]) / _len\r\n",
        "\r\n",
        "  _end = time.perf_counter()\r\n",
        "  \r\n",
        "  return _max_blood_group, _mean_location, _max_age, _average_age, _end - _start "
      ],
      "execution_count": 3,
      "outputs": []
    },
    {
      "cell_type": "markdown",
      "metadata": {
        "id": "rQm23TdXsWbO"
      },
      "source": [
        "Test using namedtuple"
      ]
    },
    {
      "cell_type": "code",
      "metadata": {
        "colab": {
          "base_uri": "https://localhost:8080/"
        },
        "id": "-IepZNBosaWm",
        "outputId": "c8606d23-38f7-4862-e5d8-8493c60fa3ef"
      },
      "source": [
        "namedtuple_time = (calculate_with_namedtuple())\r\n",
        "print(namedtuple_time[4])\r\n",
        "print('time taken = ', namedtuple_time)"
      ],
      "execution_count": 4,
      "outputs": [
        {
          "output_type": "stream",
          "text": [
            "13.023049533999256\n",
            "time taken =  ('O-', (Decimal('-727.9370096153846153846153846'), Decimal('-344.6622967692307692307692308')), 116.06849315068493, 44240.482402529015, 13.023049533999256)\n"
          ],
          "name": "stdout"
        }
      ]
    },
    {
      "cell_type": "markdown",
      "metadata": {
        "id": "kMQ00Phispqd"
      },
      "source": [
        "# Using dictionary"
      ]
    },
    {
      "cell_type": "code",
      "metadata": {
        "id": "xK9VK3dPssdk"
      },
      "source": [
        "def calculate_with_dict():\r\n",
        "\r\n",
        "  ''' Using dictionary : Use Faker library to get 10000 random profiles. \r\n",
        "  Using namedtuple, calculate the largest blood type, mean-current_location, \r\n",
        "  oldest_person_age and average age'''\r\n",
        "\r\n",
        "  _start = time.perf_counter()\r\n",
        "  faker = Faker() \r\n",
        "  # generate a profile\r\n",
        "  profile_dict=faker.profile()  \r\n",
        "\r\n",
        "  # get the attribute names  \r\n",
        "  keys=list(profile_dict.keys()) \r\n",
        "  person_list = []  \r\n",
        "  \r\n",
        "     \r\n",
        "  for i in range(10000): \r\n",
        "    _dict={} \r\n",
        "    profile = faker.profile()\r\n",
        "    for item in keys: \r\n",
        "      _dict[item] = profile[item]     \r\n",
        "    person_list.append(_dict)\r\n",
        "\r\n",
        "  # largest blood type\r\n",
        "  _max_blood_group = max([item['blood_group'] for item in person_list])\r\n",
        "\r\n",
        "  # mean-current_location\r\n",
        "  _len = len(profile_dict)\r\n",
        "  _mean_x_coord = sum([item['current_location'][0] for item in person_list]) / _len\r\n",
        "  _mean_y_coord = sum([item['current_location'][1] for item in person_list]) / _len\r\n",
        "  _mean_location = _mean_x_coord, _mean_y_coord\r\n",
        "\r\n",
        "  # oldest_person_age\r\n",
        "  _max_age = calculate_age(min([item['birthdate'] for item in person_list]))\r\n",
        "\r\n",
        "  # average age\r\n",
        "  _average_age = sum([calculate_age(item['birthdate']) for item in person_list]) / _len\r\n",
        "  \r\n",
        "  _end = time.perf_counter()\r\n",
        "  return _max_blood_group, _mean_location, _max_age, _average_age, _end - _start \r\n"
      ],
      "execution_count": 5,
      "outputs": []
    },
    {
      "cell_type": "markdown",
      "metadata": {
        "id": "DMVe6DKqsy8y"
      },
      "source": [
        "Test using dictionary"
      ]
    },
    {
      "cell_type": "code",
      "metadata": {
        "colab": {
          "base_uri": "https://localhost:8080/"
        },
        "id": "pt8w7kXWs1aa",
        "outputId": "8807a441-22c7-42c5-b7ba-24204dc430a5"
      },
      "source": [
        "dict_time = calculate_with_dict()\r\n",
        "print(dict_time)\r\n",
        "print(dict_time[4])"
      ],
      "execution_count": 6,
      "outputs": [
        {
          "output_type": "stream",
          "text": [
            "('O-', (Decimal('211.6559145'), Decimal('493.4697038461538461538461538')), 116.05479452054794, 44546.71654373005, 12.898824904999856)\n",
            "12.898824904999856\n"
          ],
          "name": "stdout"
        }
      ]
    },
    {
      "cell_type": "markdown",
      "metadata": {
        "id": "uuweVdKGpO-v"
      },
      "source": [
        "# Stock Market Assignment Problem\r\n",
        "\r\n",
        "---"
      ]
    },
    {
      "cell_type": "code",
      "metadata": {
        "id": "sqY_suAF7MXO"
      },
      "source": [
        "import random\r\n",
        "\r\n",
        "num_companies = 100\r\n",
        "num_instances = 50\r\n",
        "\r\n",
        "# 50 time instances of a day. Staring 08:00 a.m , every 10 minutes\r\n",
        "times_of_day = ['min_'+str(t) for t in range(480, 980, 10)]\r\n",
        "\r\n",
        "# declare the namedtuple\r\n",
        "company_stock=namedtuple('Company', ('c_name', 'c_symbol', 'c_weight', *times_of_day))\r\n",
        "\r\n",
        "\r\n",
        "def create_stock_weight():\r\n",
        "\r\n",
        "  ''' create 100 normalized random stock weights'''\r\n",
        "\r\n",
        "  weights=[]\r\n",
        "  for i in range(num_companies):\r\n",
        "    weights.append(random.randint(1,100))\r\n",
        "  total = sum(weights)  \r\n",
        "  weights = [round(wt/total, 4) for wt in weights]\r\n",
        "  return weights\r\n",
        "  \r\n",
        "\r\n",
        "# create normalized weights for 100 stocks\r\n",
        "weights = create_stock_weight()\r\n",
        "\r\n",
        "def create_symbol():\r\n",
        "\r\n",
        "  ''' create 1 fake company name and symbol using faker''' \r\n",
        "  \r\n",
        "  faker = Faker()\r\n",
        "  name = faker.company()    \r\n",
        "  symbol = str.upper(name[:4])    \r\n",
        "  return name, symbol\r\n",
        "\r\n",
        "def createOneCompanyRecord(i): \r\n",
        "\r\n",
        "  ''' create one company stock value record for a day''' \r\n",
        "\r\n",
        "  stock_weight = weights[i]  \r\n",
        "  opening_value = random.randint(1,1000) * stock_weight  \r\n",
        "  stock_values = [round(opening_value * random.uniform(0.90, 1.10), 4) for a in range(num_instances)]  \r\n",
        "  c_stock = company_stock(*create_symbol(), stock_weight, *stock_values)\r\n",
        "  return c_stock"
      ],
      "execution_count": 7,
      "outputs": []
    },
    {
      "cell_type": "markdown",
      "metadata": {
        "id": "_9cyDHd1wc8J"
      },
      "source": [
        "# Create Stocks for 100 companies at 50 instances in day"
      ]
    },
    {
      "cell_type": "code",
      "metadata": {
        "id": "OiTQ58RrwkHk"
      },
      "source": [
        "def createCompanyStockRecords(): \r\n",
        "\r\n",
        "  ''' create daily stock records for 100 companies'''\r\n",
        " \r\n",
        "  stock_records=[]\r\n",
        "  for i in range(num_companies):\r\n",
        "    stock_records.append(createOneCompanyRecord(i))\r\n",
        "  return stock_records\r\n",
        "  "
      ],
      "execution_count": 8,
      "outputs": []
    },
    {
      "cell_type": "markdown",
      "metadata": {
        "id": "aKBrfxsRfL-9"
      },
      "source": [
        "# Analyze stock records"
      ]
    },
    {
      "cell_type": "code",
      "metadata": {
        "id": "4_33mPY6K93w"
      },
      "source": [
        "def calculate_value_specific_instance(stock_records, i):\r\n",
        "\r\n",
        "  ''' calculate/generate total stock market value at specific instance in the day'''\r\n",
        "\r\n",
        "  time_instance = times_of_day[i] \r\n",
        "  open_value = round(sum([getattr(rec,times_of_day[i]) for rec in stock_records]), 4)  \r\n",
        "  return open_value\r\n",
        "\r\n",
        "\r\n",
        "def calculate_max_and_time(stock_records)->tuple:\r\n",
        "\r\n",
        "  ''' Find the manixum stock value and at what time in day. For instance 830 indicates 830 minutes since midnight '''\r\n",
        "\r\n",
        "  stock_values =[]\r\n",
        "  for _time in times_of_day:\r\n",
        "    stock_values.append(round(sum([getattr(rec,_time) for rec in stock_records]), 4))  \r\n",
        "\r\n",
        "  max_index = stock_values.index(max(stock_values))\r\n",
        "  max_value = stock_values[max_index]\r\n",
        "  max_time = str((times_of_day[max_index])[4:]) + ' minutes'\r\n",
        "  return max_value, max_time"
      ],
      "execution_count": 9,
      "outputs": []
    },
    {
      "cell_type": "markdown",
      "metadata": {
        "id": "SxcEumu4FCBs"
      },
      "source": [
        "# Test stock records"
      ]
    },
    {
      "cell_type": "code",
      "metadata": {
        "colab": {
          "base_uri": "https://localhost:8080/"
        },
        "id": "V7bH7f1bzygn",
        "outputId": "e82ec41c-50d7-48a6-df3d-06e29b7e7059"
      },
      "source": [
        "# create stock records\r\n",
        "stock_records = createCompanyStockRecords()\r\n",
        "\r\n",
        "open_val = calculate_value_specific_instance(stock_records, 0) # opening value\r\n",
        "\r\n",
        "close_val = calculate_value_specific_instance(stock_records, 49) # closing value\r\n",
        "\r\n",
        "max_val, max_at_time = calculate_max_and_time(stock_records)   # max value and time\r\n",
        "\r\n",
        "print('Stock Market open value = ', open_val)\r\n",
        "print('Stock Market close value = ', close_val)\r\n",
        "print('Stock Market max value @ time (minutes) = ', max_val, max_at_time)\r\n"
      ],
      "execution_count": 10,
      "outputs": [
        {
          "output_type": "stream",
          "text": [
            "Stock Market open value =  491.1279\n",
            "Stock Market close value =  496.0231\n",
            "Stock Market max value @ time (minutes) =  504.4648 880 minutes\n"
          ],
          "name": "stdout"
        }
      ]
    },
    {
      "cell_type": "markdown",
      "metadata": {
        "id": "CyzGmO53M3E9"
      },
      "source": [
        "# **Assignment 2**\r\n",
        "# Polygon **1** : \r\n",
        "Test Happy Path\r\n",
        "\r\n",
        "---\r\n",
        "\r\n"
      ]
    },
    {
      "cell_type": "code",
      "metadata": {
        "colab": {
          "base_uri": "https://localhost:8080/"
        },
        "id": "2ENYd4P_M5cK",
        "outputId": "702e4633-5017-4d64-8446-b22db83628ce"
      },
      "source": [
        "from polygon import *\r\n",
        "import sys\r\n",
        "\r\n",
        "poly1= Polygon(6, 10) \r\n",
        "poly2 = Polygon(6, 10)\r\n",
        "poly3 = Polygon(8, 7)\r\n",
        "\r\n",
        "print(poly1) # test __repr__() function\r\n",
        "print('\\npoly1 == poly2 :',poly1 == poly2) # test __eq__() \r\n",
        "print('invalid comparison :',poly1 == 100) # test __eq__() \r\n",
        "print('poly3 > poly2 :', poly3 > poly2) # test __gt__()"
      ],
      "execution_count": 11,
      "outputs": [
        {
          "output_type": "stream",
          "text": [
            "Polygon(\n",
            "numedges=6,\n",
            "radius=10,\n",
            "interior_angle=120.0,          \n",
            "edge_length=10.0,\n",
            "apothem=8.6603,\n",
            "area=259.809,\n",
            "perimeter=60.0)\n",
            "\n",
            "poly1 == poly2 : True\n",
            "invalid comparison : False\n",
            "poly3 > poly2 : True\n"
          ],
          "name": "stdout"
        }
      ]
    },
    {
      "cell_type": "markdown",
      "metadata": {
        "id": "edApbvfmMFqs"
      },
      "source": [
        "Test Boundary Conditions"
      ]
    },
    {
      "cell_type": "code",
      "metadata": {
        "colab": {
          "base_uri": "https://localhost:8080/"
        },
        "id": "kpb1On_eMJAL",
        "outputId": "3997c05a-523e-4acf-fb34-c82dcb602bc9"
      },
      "source": [
        "try:\r\n",
        "  poly1= Polygon(2, 10) # invalid number of edges\r\n",
        "except ValueError as e:\r\n",
        "  print(e)"
      ],
      "execution_count": 12,
      "outputs": [
        {
          "output_type": "stream",
          "text": [
            "Polygon: number of vertices must be >= 3\n"
          ],
          "name": "stdout"
        }
      ]
    },
    {
      "cell_type": "code",
      "metadata": {
        "colab": {
          "base_uri": "https://localhost:8080/"
        },
        "id": "iRjKKl-AitJ9",
        "outputId": "046e2a45-8387-48ff-af45-f3860c49858a"
      },
      "source": [
        "try:\r\n",
        "  cp1 = Polygon(25,-10)\r\n",
        "except ValueError as e:\r\n",
        "  print(e)"
      ],
      "execution_count": 13,
      "outputs": [
        {
          "output_type": "stream",
          "text": [
            "Polygon: radius must be > 0\n"
          ],
          "name": "stdout"
        }
      ]
    },
    {
      "cell_type": "markdown",
      "metadata": {
        "id": "BK6R2cM_Ov_-"
      },
      "source": [
        "# CustomPolygon \r\n",
        "\r\n",
        "---\r\n",
        "Test Happy Path"
      ]
    },
    {
      "cell_type": "code",
      "metadata": {
        "colab": {
          "base_uri": "https://localhost:8080/"
        },
        "id": "V9R2QVFnP4bS",
        "outputId": "48c33732-4be9-4dfd-82ea-75dbda84fcef"
      },
      "source": [
        "cp1 = CustomPolygon(5,6)\r\n",
        "print(cp1)"
      ],
      "execution_count": 14,
      "outputs": [
        {
          "output_type": "stream",
          "text": [
            "polygon sequence [Polygon(\n",
            "numedges=3,\n",
            "radius=6,\n",
            "interior_angle=60.0,          \n",
            "edge_length=10.3923,\n",
            "apothem=3.0,\n",
            "area=46.7654,\n",
            "perimeter=31.1769), Polygon(\n",
            "numedges=4,\n",
            "radius=6,\n",
            "interior_angle=90.0,          \n",
            "edge_length=8.4853,\n",
            "apothem=4.2426,\n",
            "area=71.9995,\n",
            "perimeter=33.9412), Polygon(\n",
            "numedges=5,\n",
            "radius=6,\n",
            "interior_angle=108.0,          \n",
            "edge_length=7.0534,\n",
            "apothem=4.8541,\n",
            "area=85.5948,\n",
            "perimeter=35.267)]\n"
          ],
          "name": "stdout"
        }
      ]
    },
    {
      "cell_type": "code",
      "metadata": {
        "colab": {
          "base_uri": "https://localhost:8080/"
        },
        "id": "evBPb__PQDhH",
        "outputId": "8d76f900-1e3e-4b02-cdfe-6c204de479e5"
      },
      "source": [
        "print(cp1[0])\r\n",
        "print()\r\n",
        "print(len(cp1))\r\n",
        "print()\r\n",
        "print(cp1._max_efficient)"
      ],
      "execution_count": 15,
      "outputs": [
        {
          "output_type": "stream",
          "text": [
            "Polygon(\n",
            "numedges=3,\n",
            "radius=6,\n",
            "interior_angle=60.0,          \n",
            "edge_length=10.3923,\n",
            "apothem=3.0,\n",
            "area=46.7654,\n",
            "perimeter=31.1769)\n",
            "\n",
            "3\n",
            "\n",
            "Polygon(\n",
            "numedges=5,\n",
            "radius=6,\n",
            "interior_angle=108.0,          \n",
            "edge_length=7.0534,\n",
            "apothem=4.8541,\n",
            "area=85.5948,\n",
            "perimeter=35.267)\n"
          ],
          "name": "stdout"
        }
      ]
    },
    {
      "cell_type": "markdown",
      "metadata": {
        "id": "XkMYzhz-ciXv"
      },
      "source": [
        "Test Boundary Conditions"
      ]
    },
    {
      "cell_type": "code",
      "metadata": {
        "colab": {
          "base_uri": "https://localhost:8080/"
        },
        "id": "d_YNSNjtcjmE",
        "outputId": "1cf0c5fd-be0b-40b7-a270-33b0ef9db08e"
      },
      "source": [
        "try:\r\n",
        "  cp1 = CustomPolygon(2,6)\r\n",
        "except ValueError as e:\r\n",
        "  print(e)"
      ],
      "execution_count": 16,
      "outputs": [
        {
          "output_type": "stream",
          "text": [
            "CustomPolygon: number of vertices must be >= 3\n"
          ],
          "name": "stdout"
        }
      ]
    },
    {
      "cell_type": "code",
      "metadata": {
        "colab": {
          "base_uri": "https://localhost:8080/"
        },
        "id": "cpLBaCQIcwhi",
        "outputId": "43b108ca-7be7-4fd4-d8d6-6d6d557649ab"
      },
      "source": [
        "try:\r\n",
        "  cp1 = CustomPolygon(10,6)\r\n",
        "  cp1[11]\r\n",
        "except ValueError as e:\r\n",
        "  print(e)"
      ],
      "execution_count": 17,
      "outputs": [
        {
          "output_type": "stream",
          "text": [
            "CustomPolygon: invalid key\n"
          ],
          "name": "stdout"
        }
      ]
    }
  ]
}